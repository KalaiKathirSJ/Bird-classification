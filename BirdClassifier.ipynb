{
  "cells": [
    {
      "cell_type": "markdown",
      "metadata": {
        "colab_type": "text",
        "id": "MGQccSWBlpyu"
      },
      "source": [
        "# BIRD identification model"
      ]
    },
    {
      "cell_type": "code",
      "execution_count": null,
      "metadata": {
        "colab": {
          "base_uri": "https://localhost:8080/",
          "height": 34
        },
        "colab_type": "code",
        "id": "_mNrzYKCluN6",
        "outputId": "069f19b3-f468-466f-cd8f-7497107ad03b"
      },
      "outputs": [
        {
          "name": "stderr",
          "output_type": "stream",
          "text": [
            "C:\\Users\\kalai\\AppData\\Local\\Packages\\PythonSoftwareFoundation.Python.3.10_qbz5n2kfra8p0\\LocalCache\\local-packages\\Python310\\site-packages\\tqdm\\auto.py:21: TqdmWarning: IProgress not found. Please update jupyter and ipywidgets. See https://ipywidgets.readthedocs.io/en/stable/user_install.html\n",
            "  from .autonotebook import tqdm as notebook_tqdm\n"
          ]
        }
      ],
      "source": [
        "import tensorflow as tf\n",
        "import numpy as np\n",
        "import matplotlib.pyplot as plt\n",
        "import pandas as pd\n",
        "from glob import glob\n",
        "import tensorflow_hub as hub\n",
        "import tensorflow_datasets as tfds\n",
        "from keras.preprocessing import image  "
      ]
    },
    {
      "cell_type": "code",
      "execution_count": 4,
      "metadata": {
        "colab": {},
        "colab_type": "code",
        "id": "IDC8_GMqluh2"
      },
      "outputs": [],
      "source": [
        "import logging\n",
        "logger = tf.get_logger()\n",
        "logger.setLevel(logging.ERROR)"
      ]
    },
    {
      "cell_type": "code",
      "execution_count": 5,
      "metadata": {
        "colab": {},
        "colab_type": "code",
        "id": "B07VnobunKYR"
      },
      "outputs": [],
      "source": [
        "IMAGE_RES = 224                                                                 # input dimensions required by the CNN model\n",
        "def preprocess_image_to_tensor(img_path, ax):\n",
        "    img = image.load_img(img_path, target_size=(IMAGE_RES, IMAGE_RES))          # loads RGB image as PIL.Image.Image type, resize image to model input dimensions\n",
        "    ax.imshow(img, alpha=1)\n",
        "    x = image.img_to_array(img)/255.0                                           # convert PIL.Image.Image type to 3D tensor with shape (224, 224, 3) and normalize to [0:1] as per model requierements\n",
        "    x = np.expand_dims(x, axis=0)                                               # convert 3D tensor to 4D tensor with shape (1, 224, 224, 3) and return 4D tensor\n",
        "    return x                                                                    # return 4D tensor"
      ]
    },
    {
      "cell_type": "code",
      "execution_count": 6,
      "metadata": {
        "colab": {},
        "colab_type": "code",
        "id": "z4dQyyfrluxe"
      },
      "outputs": [],
      "source": [
        "URL = 'https://tfhub.dev/google/aiy/vision/classifier/birds_V1/1'               # Import pre-trained bird classification model from Tensorflow Hub \n",
        "bird = hub.KerasLayer(URL, input_shape=(IMAGE_RES,IMAGE_RES,3))                 # Using aiy/vision/classifier/birds_V1 classifying 964 bird species from images. It is based on MobileNet, and trained on photos contributed by the iNaturalist community\n",
        "bird.trainable=False                                                            # freeze model weights"
      ]
    },
    {
      "cell_type": "code",
      "execution_count": 7,
      "metadata": {
        "colab": {
          "base_uri": "https://localhost:8080/",
          "height": 194
        },
        "colab_type": "code",
        "id": "mKUF98kHmBYN",
        "outputId": "5c037e40-00b4-404c-8046-5c068d6db99f"
      },
      "outputs": [
        {
          "name": "stdout",
          "output_type": "stream",
          "text": [
            "Model: \"sequential\"\n",
            "_________________________________________________________________\n",
            " Layer (type)                Output Shape              Param #   \n",
            "=================================================================\n",
            " keras_layer (KerasLayer)    (None, 965)               0         \n",
            "                                                                 \n",
            "=================================================================\n",
            "Total params: 0\n",
            "Trainable params: 0\n",
            "Non-trainable params: 0\n",
            "_________________________________________________________________\n"
          ]
        }
      ],
      "source": [
        "model=tf.keras.Sequential([bird])\n",
        "model.summary()"
      ]
    },
    {
      "cell_type": "markdown",
      "metadata": {
        "colab_type": "text",
        "id": "Cskx4OnRoYri"
      },
      "source": [
        "## Load labels"
      ]
    },
    {
      "cell_type": "code",
      "execution_count": 8,
      "metadata": {
        "colab": {},
        "colab_type": "code",
        "id": "4bJ2bQFSxgNU"
      },
      "outputs": [],
      "source": [
        "#from google.colab import drive\n",
        "#drive.mount('/content/drive')\n",
        "#!ls \"/content/drive/My Drive/Colab Notebooks\""
      ]
    },
    {
      "cell_type": "code",
      "execution_count": 10,
      "metadata": {
        "colab": {
          "base_uri": "https://localhost:8080/",
          "height": 227
        },
        "colab_type": "code",
        "id": "_EZ6SJKBq6yi",
        "outputId": "0d929e95-3c4c-4ed8-9de5-225ba75834b4"
      },
      "outputs": [
        {
          "data": {
            "text/html": [
              "<div>\n",
              "<style scoped>\n",
              "    .dataframe tbody tr th:only-of-type {\n",
              "        vertical-align: middle;\n",
              "    }\n",
              "\n",
              "    .dataframe tbody tr th {\n",
              "        vertical-align: top;\n",
              "    }\n",
              "\n",
              "    .dataframe thead th {\n",
              "        text-align: right;\n",
              "    }\n",
              "</style>\n",
              "<table border=\"1\" class=\"dataframe\">\n",
              "  <thead>\n",
              "    <tr style=\"text-align: right;\">\n",
              "      <th></th>\n",
              "      <th>nom</th>\n",
              "      <th>name</th>\n",
              "    </tr>\n",
              "    <tr>\n",
              "      <th>id</th>\n",
              "      <th></th>\n",
              "      <th></th>\n",
              "    </tr>\n",
              "  </thead>\n",
              "  <tbody>\n",
              "    <tr>\n",
              "      <th>964</th>\n",
              "      <td>Pas d'oiseau identifié</td>\n",
              "      <td>background</td>\n",
              "    </tr>\n",
              "    <tr>\n",
              "      <th>0</th>\n",
              "      <td>Roselin de Cassin</td>\n",
              "      <td>Cassin's Finch</td>\n",
              "    </tr>\n",
              "    <tr>\n",
              "      <th>1</th>\n",
              "      <td>Courlan brun</td>\n",
              "      <td>Limpkin</td>\n",
              "    </tr>\n",
              "    <tr>\n",
              "      <th>2</th>\n",
              "      <td>Rupornis magnirostris</td>\n",
              "      <td>Rupornis magnirostris</td>\n",
              "    </tr>\n",
              "    <tr>\n",
              "      <th>3</th>\n",
              "      <td>Geai bleu</td>\n",
              "      <td>Blue Jay</td>\n",
              "    </tr>\n",
              "  </tbody>\n",
              "</table>\n",
              "</div>"
            ],
            "text/plain": [
              "                        nom                   name\n",
              "id                                                \n",
              "964  Pas d'oiseau identifié             background\n",
              "0         Roselin de Cassin         Cassin's Finch\n",
              "1              Courlan brun                Limpkin\n",
              "2     Rupornis magnirostris  Rupornis magnirostris\n",
              "3                 Geai bleu               Blue Jay"
            ]
          },
          "execution_count": 10,
          "metadata": {},
          "output_type": "execute_result"
        }
      ],
      "source": [
        "#labels = pd.read_csv(\"/content/drive/My Drive/Colab Notebooks/aiy_birds_V1_labelmap.csv\", sep=',', header=0, index_col=0)  # using scientific names  in Latin\n",
        "labels = pd.read_csv(\"labels_oiseaux.csv\", sep=';', header=0, index_col=0)          # file providing species in french, english and latin\n",
        "labels.head()"
      ]
    },
    {
      "cell_type": "code",
      "execution_count": null,
      "metadata": {
        "colab": {
          "base_uri": "https://localhost:8080/",
          "height": 677
        },
        "colab_type": "code",
        "id": "qpc42vIumBmF",
        "outputId": "027e3f85-4c42-4e30-a44d-5867dda12179"
      },
      "outputs": [],
      "source": [
        "lang='fr'                                                                       # select 'fr' for species in french, 'en' for english labels\n",
        "if lang=='fr':\n",
        "  label='nom'\n",
        "else:\n",
        "  label='name'\n",
        "import pandas as pd\n",
        "from sklearn.ensemble import RandomForestClassifier\n",
        "from sklearn.model_selection import train_test_split\n",
        "from sklearn.metrics import accuracy_score\n",
        "\n",
        "# Load the dataset\n",
        "url = \"https://archive.ics.uci.edu/ml/machine-learning-databases/00352/Online%20Retail.xlsx\"\n",
        "df = pd.read_excel(url)\n",
        "\n",
        "# Preprocess the data\n",
        "df = df.dropna()  # Remove rows with missing values\n",
        "df = df[['Quantity', 'UnitPrice', 'CustomerID']]  # Select relevant features\n",
        "df['IsBird'] = df['CustomerID'].apply(lambda x: 1 if x % 2 == 0 else 0)  # Create a binary target variable (IsBird)\n",
        "\n",
        "# Split the data into features (X) and target variable (y)\n",
        "X = df[['Quantity', 'UnitPrice', 'CustomerID']]\n",
        "y = df['IsBird']\n",
        "\n",
        "# Split the data into training and testing sets\n",
        "X_train, X_test, y_train, y_test = train_test_split(X, y, test_size=0.2, random_state=42)\n",
        "\n",
        "# Train a Random Forest classifier\n",
        "clf = RandomForestClassifier(n_estimators=100, random_state=42)\n",
        "clf.fit(X_train, y_train)\n",
        "\n",
        "# Predict on the test set\n",
        "y_pred = clf.predict(X_test)\n",
        "\n",
        "# Evaluate the accuracy\n",
        "accuracy = accuracy_score(y_test, y_pred)\n",
        "print(\"Accuracy:\", accuracy)\n",
        "my_files = np.array(glob(\"/content/drive/My Drive/Colab Notebooks/images/*\"))   \n",
        "num_img=my_files.shape[0]\n",
        "lines= num_img//5 + 1\n",
        "columns=np.minimum(5,num_img)\n",
        "plt.figure(figsize=(30,15))\n",
        "for index, file in enumerate(my_files):\n",
        "  ax=plt.subplot(lines, columns,index+1)\n",
        "  processed_image=preprocess_image_to_tensor(file, ax)                        \n",
        "  output = model.predict(processed_image)                                     \n",
        "  prediction = np.argmax(tf.squeeze(output).numpy())\n",
        " \n",
        "  plt.title(labels[label][prediction])\n",
        "plt.show()\n"
      ]
    },
    {
      "cell_type": "code",
      "execution_count": 2,
      "metadata": {},
      "outputs": [
        {
          "name": "stdout",
          "output_type": "stream",
          "text": [
            "Accuracy: 0.8783398471105868\n"
          ]
        }
      ],
      "source": [
        "import pandas as pd\n",
        "from sklearn.ensemble import RandomForestClassifier\n",
        "from sklearn.model_selection import train_test_split\n",
        "from sklearn.metrics import accuracy_score\n",
        "\n",
        "# Load the dataset\n",
        "url = \"https://archive.ics.uci.edu/ml/machine-learning-databases/00352/Online%20Retail.xlsx\"\n",
        "df = pd.read_excel(url)\n",
        "\n",
        "# Preprocess the data\n",
        "df = df.dropna()  # Remove rows with missing values\n",
        "df = df[['Quantity', 'UnitPrice', 'CustomerID']]  # Select relevant features\n",
        "df['IsBird'] = df['CustomerID'].apply(lambda x: 1 if x % 2 == 0 else 0)  # Create a binary target variable (IsBird)\n",
        "\n",
        "# Split the data into features (X) and target variable (y)\n",
        "X = df[['Quantity', 'UnitPrice', 'CustomerID']]\n",
        "y = df['IsBird']\n",
        "\n",
        "# Split the data into training and testing sets\n",
        "X_train, X_test, y_train, y_test = train_test_split(X, y, test_size=0.2, random_state=42)\n",
        "\n",
        "# Train a Random Forest classifier\n",
        "clf = RandomForestClassifier(n_estimators=100, random_state=42)\n",
        "clf.fit(X_train, y_train)\n",
        "\n",
        "# Predict on the test set\n",
        "y_pred = clf.predict(X_test)\n",
        "\n",
        "# Evaluate the accuracy\n",
        "accuracy = accuracy_score(y_test, y_pred)\n",
        "print(\"Accuracy:\", accuracy)\n"
      ]
    },
    {
      "cell_type": "code",
      "execution_count": null,
      "metadata": {},
      "outputs": [],
      "source": []
    }
  ],
  "metadata": {
    "colab": {
      "collapsed_sections": [],
      "name": "Untitled0.ipynb",
      "provenance": []
    },
    "kernelspec": {
      "display_name": "Python 3",
      "language": "python",
      "name": "python3"
    },
    "language_info": {
      "codemirror_mode": {
        "name": "ipython",
        "version": 3
      },
      "file_extension": ".py",
      "mimetype": "text/x-python",
      "name": "python",
      "nbconvert_exporter": "python",
      "pygments_lexer": "ipython3",
      "version": "3.10.11"
    },
    "vscode": {
      "interpreter": {
        "hash": "c23a6435c43d032726f54cbb5688e13cc81708b4b49f45430b955540d8c7cd85"
      }
    }
  },
  "nbformat": 4,
  "nbformat_minor": 0
}
